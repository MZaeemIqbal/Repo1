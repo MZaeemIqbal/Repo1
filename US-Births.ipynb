{
 "cells": [
  {
   "cell_type": "markdown",
   "metadata": {},
   "source": [
    "                                Explore U.S. Births"
   ]
  },
  {
   "cell_type": "markdown",
   "metadata": {},
   "source": [
    "Purpose:\n",
    "    We want to answer specific questions about births in USA."
   ]
  },
  {
   "cell_type": "markdown",
   "metadata": {},
   "source": [
    "Indroduction to dataset:\n",
    "The dataset contains birth rate information from 2000-2014\n",
    "\n",
    "Source:https://github.com/fivethirtyeight/data/blob/master/births/US_births_2000-2014_SSA.csv"
   ]
  },
  {
   "cell_type": "markdown",
   "metadata": {},
   "source": [
    "DataSet consists of 5 columns and 5479 rows \n",
    "COLUMNS:\n",
    "year: year of births\n",
    "month: month range 1-12\n",
    "date_of_month: date of each month in range 1-31\n",
    "day of week: each day of week in numbers i.e; 1-Monday,2-Tuesday... uptill 7-Sunday\n",
    "births: number of births each day"
   ]
  },
  {
   "cell_type": "markdown",
   "metadata": {},
   "source": [
    "Reading data into a dataframe using pandas library"
   ]
  },
  {
   "cell_type": "code",
   "execution_count": 237,
   "metadata": {},
   "outputs": [
    {
     "data": {
      "text/html": [
       "<div>\n",
       "<style>\n",
       "    .dataframe thead tr:only-child th {\n",
       "        text-align: right;\n",
       "    }\n",
       "\n",
       "    .dataframe thead th {\n",
       "        text-align: left;\n",
       "    }\n",
       "\n",
       "    .dataframe tbody tr th {\n",
       "        vertical-align: top;\n",
       "    }\n",
       "</style>\n",
       "<table border=\"1\" class=\"dataframe\">\n",
       "  <thead>\n",
       "    <tr style=\"text-align: right;\">\n",
       "      <th></th>\n",
       "      <th>year</th>\n",
       "      <th>month</th>\n",
       "      <th>date_of_month</th>\n",
       "      <th>day_of_week</th>\n",
       "      <th>births</th>\n",
       "    </tr>\n",
       "  </thead>\n",
       "  <tbody>\n",
       "    <tr>\n",
       "      <th>0</th>\n",
       "      <td>2000</td>\n",
       "      <td>1</td>\n",
       "      <td>1</td>\n",
       "      <td>6</td>\n",
       "      <td>9083</td>\n",
       "    </tr>\n",
       "    <tr>\n",
       "      <th>1</th>\n",
       "      <td>2000</td>\n",
       "      <td>1</td>\n",
       "      <td>2</td>\n",
       "      <td>7</td>\n",
       "      <td>8006</td>\n",
       "    </tr>\n",
       "    <tr>\n",
       "      <th>2</th>\n",
       "      <td>2000</td>\n",
       "      <td>1</td>\n",
       "      <td>3</td>\n",
       "      <td>1</td>\n",
       "      <td>11363</td>\n",
       "    </tr>\n",
       "    <tr>\n",
       "      <th>3</th>\n",
       "      <td>2000</td>\n",
       "      <td>1</td>\n",
       "      <td>4</td>\n",
       "      <td>2</td>\n",
       "      <td>13032</td>\n",
       "    </tr>\n",
       "    <tr>\n",
       "      <th>4</th>\n",
       "      <td>2000</td>\n",
       "      <td>1</td>\n",
       "      <td>5</td>\n",
       "      <td>3</td>\n",
       "      <td>12558</td>\n",
       "    </tr>\n",
       "  </tbody>\n",
       "</table>\n",
       "</div>"
      ],
      "text/plain": [
       "   year  month  date_of_month  day_of_week  births\n",
       "0  2000      1              1            6    9083\n",
       "1  2000      1              2            7    8006\n",
       "2  2000      1              3            1   11363\n",
       "3  2000      1              4            2   13032\n",
       "4  2000      1              5            3   12558"
      ]
     },
     "execution_count": 237,
     "metadata": {},
     "output_type": "execute_result"
    }
   ],
   "source": [
    "import pandas as pd\n",
    "data=pd.read_csv(\"C:/Users/zaeem/Desktop/Data_files/US_births_2000-2014_SSA.csv\")\n",
    "data.head()"
   ]
  },
  {
   "cell_type": "markdown",
   "metadata": {},
   "source": [
    "Function returns number of births per year"
   ]
  },
  {
   "cell_type": "code",
   "execution_count": 238,
   "metadata": {},
   "outputs": [
    {
     "name": "stdout",
     "output_type": "stream",
     "text": [
      "{2000: 4149598, 2001: 4110963, 2002: 4099313, 2003: 4163060, 2004: 4186863, 2005: 4211941, 2006: 4335154, 2007: 4380784, 2008: 4310737, 2009: 4190991, 2010: 4055975, 2011: 4006908, 2012: 4000868, 2013: 3973337, 2014: 4010532}\n"
     ]
    }
   ],
   "source": [
    "def year_births(data):\n",
    "    births_per_year={}\n",
    "    for idx,row in data.iterrows():\n",
    "        if row[\"year\"] in births_per_year:\n",
    "            births_per_year[row[\"year\"]]=births_per_year[row[\"year\"]]+row[\"births\"]\n",
    "        else:\n",
    "            births_per_year[row[\"year\"]]=row[\"births\"]\n",
    "    return births_per_year\n",
    "yr_births=year_births(data)\n",
    "print(yr_births)"
   ]
  },
  {
   "cell_type": "code",
   "execution_count": 239,
   "metadata": {},
   "outputs": [
    {
     "data": {
      "image/png": "[encoded data removed]",
      "text/plain": [
       "<matplotlib.figure.Figure at 0x1f207da2400>"
      ]
     },
     "metadata": {},
     "output_type": "display_data"
    }
   ],
   "source": [
    "import matplotlib.pyplot as plt\n",
    "%matplotlib inline\n",
    "y_births=year_births(data)\n",
    "births=pd.Series(y_births)\n",
    "h=births.plot(kind='line',linewidth=2,color='r')\n",
    "h.set_ylabel(\"year\")\n",
    "h.set_xlabel(\"total births\")\n",
    "h.set_title(\"US Births on specific years\")\n",
    "ax.tick_params(bottom=\"off\", top=\"off\", left=\"off\", right=\"off\")\n",
    "h.spines['right'].set_visible(False)\n",
    "h.spines['top'].set_visible(False)\n",
    "h.spines['bottom'].set_visible(False)\n",
    "h.spines['left'].set_visible(False)\n",
    "#ax=births.plot(kind='bar',title=\"population per year\",figsize=(12,7),fontsize=15)"
   ]
  },
  {
   "cell_type": "markdown",
   "metadata": {},
   "source": [
    "Surprisingly,US cannot maintain its birth rate when population of the world in constantly increasing "
   ]
  },
  {
   "cell_type": "markdown",
   "metadata": {},
   "source": [
    "Finding number of births in each month(1-12) of all years"
   ]
  },
  {
   "cell_type": "code",
   "execution_count": 240,
   "metadata": {},
   "outputs": [
    {
     "name": "stdout",
     "output_type": "stream",
     "text": [
      "{1: 5072588, 2: 4725693, 3: 5172961, 4: 4960750, 5: 5195445, 6: 5163360, 7: 5450418, 8: 5540170, 9: 5399592, 10: 5302865, 11: 5008750, 12: 5194432}\n"
     ]
    }
   ],
   "source": [
    "def month_births(data):\n",
    "    births_per_month={}\n",
    "    for idx,row in data.iterrows():\n",
    "        if row[\"month\"] in births_per_month:\n",
    "            births_per_month[row[\"month\"]]=births_per_month[row[\"month\"]]+row[\"births\"]\n",
    "        else:\n",
    "            births_per_month[row[\"month\"]]=row[\"births\"]\n",
    "    return births_per_month\n",
    "m_births=month_births(data)\n",
    "print(m_births)"
   ]
  },
  {
   "cell_type": "code",
   "execution_count": 241,
   "metadata": {},
   "outputs": [
    {
     "data": {
      "image/png": "[encoded data removed]",
      "text/plain": [
       "<matplotlib.figure.Figure at 0x1f2075db550>"
      ]
     },
     "metadata": {},
     "output_type": "display_data"
    }
   ],
   "source": [
    "months_births=month_births(data)\n",
    "births=pd.Series(months_births)\n",
    "ax=births.plot(kind='bar',color='cmkygbr',figsize=(7,4))\n",
    "ax.set_xlabel(\"month\")\n",
    "ax.set_ylabel(\"total births\")\n",
    "ax.set_title(\"US Births on months\")\n",
    "ax.spines['right'].set_visible(False)\n",
    "ax.spines['top'].set_visible(False)\n",
    "ax.spines['bottom'].set_visible(False)\n",
    "ax.spines['left'].set_visible(False)"
   ]
  },
  {
   "cell_type": "markdown",
   "metadata": {},
   "source": [
    "Number of Births on dates of month"
   ]
  },
  {
   "cell_type": "code",
   "execution_count": 242,
   "metadata": {},
   "outputs": [
    {
     "name": "stdout",
     "output_type": "stream",
     "text": [
      "{1: 2003627, 2: 2030447, 3: 2042441, 4: 2004785, 5: 2036185, 6: 2037729, 7: 2063416, 8: 2061652, 9: 2044600, 10: 2066154, 11: 2054098, 12: 2072483, 13: 2000064, 14: 2076291, 15: 2066999, 16: 2058651, 17: 2071572, 18: 2077673, 19: 2065328, 20: 2083247, 21: 2079198, 22: 2051012, 23: 2023555, 24: 1993203, 25: 1972534, 26: 2001311, 27: 2035483, 28: 2051528, 29: 1918965, 30: 1879925, 31: 1162868}\n"
     ]
    }
   ],
   "source": [
    "def date_births(data):\n",
    "    births_per_date={}\n",
    "    for idx,row in data.iterrows():\n",
    "        if row[\"date_of_month\"] in births_per_date:\n",
    "            births_per_date[row[\"date_of_month\"]]=births_per_date[row[\"date_of_month\"]]+row[\"births\"]\n",
    "        else:\n",
    "            births_per_date[row[\"date_of_month\"]]=row[\"births\"]\n",
    "    return births_per_date\n",
    "d_births=date_births(data)\n",
    "print(d_births)"
   ]
  },
  {
   "cell_type": "code",
   "execution_count": 243,
   "metadata": {},
   "outputs": [
    {
     "data": {
      "image/png": "[encoded data removed]",
      "text/plain": [
       "<matplotlib.figure.Figure at 0x1f207c6dc50>"
      ]
     },
     "metadata": {},
     "output_type": "display_data"
    }
   ],
   "source": [
    "births=date_births(data)\n",
    "births=pd.Series(births)[0:28]\n",
    "ax=births.plot(kind='bar',color='cmkygbr',figsize=(10,5),linewidth=2)\n",
    "ax.set_xlabel(\"date\")\n",
    "ax.set_ylabel(\"total births\")\n",
    "ax.set_title(\"US Births on dates of month\")\n",
    "ax.spines['right'].set_visible(False)\n",
    "ax.spines['top'].set_visible(False)\n",
    "ax.spines['bottom'].set_visible(False)\n",
    "ax.spines['left'].set_visible(False)"
   ]
  },
  {
   "cell_type": "markdown",
   "metadata": {},
   "source": [
    "Number of births in each day of week(1-7)"
   ]
  },
  {
   "cell_type": "code",
   "execution_count": 244,
   "metadata": {},
   "outputs": [
    {
     "name": "stdout",
     "output_type": "stream",
     "text": [
      "{6: 6704495, 7: 5886889, 1: 9316001, 2: 10274874, 3: 10109130, 4: 10045436, 5: 9850199}\n"
     ]
    }
   ],
   "source": [
    "def dow_births(data):\n",
    "    total_births={}\n",
    "    for idx,row in data.iterrows():\n",
    "        if row[\"day_of_week\"] in total_births:\n",
    "            total_births[row[\"day_of_week\"]]=total_births[row[\"day_of_week\"]]+row[\"births\"]\n",
    "        else:\n",
    "            total_births[row[\"day_of_week\"]]=row[\"births\"]\n",
    "    return total_births\n",
    "day_of_week_births=dow_births(data)\n",
    "print(day_of_week_births)"
   ]
  },
  {
   "cell_type": "code",
   "execution_count": 245,
   "metadata": {},
   "outputs": [
    {
     "data": {
      "image/png": "[encoded data removed]",
      "text/plain": [
       "<matplotlib.figure.Figure at 0x1f207ceac88>"
      ]
     },
     "metadata": {},
     "output_type": "display_data"
    }
   ],
   "source": [
    "days_births=dow_births(data)\n",
    "births=pd.Series(days_births)\n",
    "ax=births.plot(kind='barh',color='rbgykmc')\n",
    "ax.set_ylabel(\"day of week\")\n",
    "ax.set_xlabel(\"total births\")\n",
    "ax.set_title(\"US Births on days of week\")\n",
    "ax.spines['right'].set_visible(False)\n",
    "ax.spines['top'].set_visible(False)\n",
    "ax.spines['bottom'].set_visible(False)\n",
    "ax.spines['left'].set_visible(False)"
   ]
  },
  {
   "cell_type": "markdown",
   "metadata": {},
   "source": [
    "Function below returns min and max births from any collection (month,day or year etc)"
   ]
  },
  {
   "cell_type": "code",
   "execution_count": 246,
   "metadata": {},
   "outputs": [
    {
     "name": "stdout",
     "output_type": "stream",
     "text": [
      "{'Tue': 10274874, 'Sun': 5886889}\n"
     ]
    }
   ],
   "source": [
    "def min_max(dct):\n",
    "    min=10000000\n",
    "    max=0\n",
    "    days=[\"Mon\",\"Tue\",\"Wed\",\"Thr\",\"Fri\",\"Sat\",\"Sun\"]\n",
    "    key1=0\n",
    "    key2=0    \n",
    "    for key in dct:\n",
    "        if dct[key]>max:\n",
    "            max=dct[key]\n",
    "            key1=key\n",
    "    for key in dct:\n",
    "        if dct[key]<min:\n",
    "            min=dct[key]\n",
    "            key2=key\n",
    "    return {days[key1-1]:max,days[key2-1]:min}\n",
    "a=min_max(day_of_week_births)\n",
    "print(a)"
   ]
  },
  {
   "cell_type": "markdown",
   "metadata": {},
   "source": [
    "Minimum number of births are on Tuesday while maximum number of births are on Sun"
   ]
  },
  {
   "cell_type": "markdown",
   "metadata": {},
   "source": [
    "Finding number of births on specific day of a specific year"
   ]
  },
  {
   "cell_type": "code",
   "execution_count": 247,
   "metadata": {},
   "outputs": [],
   "source": [
    "def nob_year_dow(data,year,day):\n",
    "    nob=0\n",
    "    for idx,row in data.iterrows():\n",
    "        if row[\"year\"]==year and row[\"day_of_week\"]==day:\n",
    "         nob=nob+row[\"births\"]\n",
    "    return nob"
   ]
  },
  {
   "cell_type": "markdown",
   "metadata": {},
   "source": [
    "Change in births from one year to another(2000-2014)"
   ]
  },
  {
   "cell_type": "code",
   "execution_count": 248,
   "metadata": {},
   "outputs": [
    {
     "name": "stdout",
     "output_type": "stream",
     "text": [
      "-21375\n"
     ]
    }
   ],
   "source": [
    "def change_in_births(data,year1,year2,day):\n",
    "    nob1=nob_year_dow(data,year1,day)\n",
    "    nob2=nob_year_dow(data,year2,day)\n",
    "    return (nob2-nob1)\n",
    "change = change_in_births(data,2000,2014,5)\n",
    "print(change)"
   ]
  },
  {
   "cell_type": "markdown",
   "metadata": {},
   "source": [
    "There is a decrease of 21375 in births from 2000 to 2014"
   ]
  },
  {
   "cell_type": "markdown",
   "metadata": {},
   "source": [
    "Friday 13 number of births"
   ]
  },
  {
   "cell_type": "code",
   "execution_count": 249,
   "metadata": {},
   "outputs": [
    {
     "name": "stdout",
     "output_type": "stream",
     "text": [
      "{2000: 11723, 2001: 10881, 2002: 13028, 2003: 12013, 2004: 11749, 2005: 11803, 2006: 11994, 2007: 12168, 2008: 12394, 2009: 11832, 2010: 12092, 2011: 11125, 2012: 11380, 2013: 12669, 2014: 11651, 'avg': 11170.334999999999}\n",
      "11170.335\n"
     ]
    }
   ],
   "source": [
    "def Fri_13_births(data):\n",
    "    fri_13={}\n",
    "    for idx,row in data.iterrows():\n",
    "        if (row[\"day_of_week\"] == 5 and row[\"date_of_month\"] == 13):\n",
    "            if row[\"year\"] not in fri_13:\n",
    "                fri_13[row[\"year\"]]=row[\"births\"]\n",
    "    fri_13[\"avg\"]=avg_day_births(data)\n",
    "    return fri_13\n",
    "print(Fri_13_births(data))\n",
    "def avg_day_births(data):\n",
    "    return(sum(data[\"births\"][:200])/200)\n",
    "print(avg_day_births(data))"
   ]
  },
  {
   "cell_type": "code",
   "execution_count": 250,
   "metadata": {},
   "outputs": [
    {
     "data": {
      "image/png": "[encoded data removed]",
      "text/plain": [
       "<matplotlib.figure.Figure at 0x1f207d66ac8>"
      ]
     },
     "metadata": {},
     "output_type": "display_data"
    }
   ],
   "source": [
    "births=Fri_13_births(data)\n",
    "births=pd.Series(births)\n",
    "\n",
    "ax=births.plot(kind='bar',color='rcgkycm',figsize=(10,5),linewidth=2)\n",
    "ax.set_xlabel(\"year\")\n",
    "ax.set_ylabel(\"total births\")\n",
    "ax.set_title(\"US Births on Friday 13s of every year\")\n",
    "ax.spines['right'].set_visible(False)\n",
    "ax.spines['top'].set_visible(False)\n",
    "ax.spines['bottom'].set_visible(False)\n",
    "ax.spines['left'].set_visible(False)"
   ]
  },
  {
   "cell_type": "markdown",
   "metadata": {},
   "source": [
    "As opposed to a Friday-13 superstition,births on Friday 13s are not very different from an average day births(shown by avg on above bar graph)"
   ]
  }
 ],
 "metadata": {
  "kernelspec": {
   "display_name": "Python 3",
   "language": "python",
   "name": "python3"
  },
  "language_info": {
   "codemirror_mode": {
    "name": "ipython",
    "version": 3
   },
   "file_extension": ".py",
   "mimetype": "text/x-python",
   "name": "python",
   "nbconvert_exporter": "python",
   "pygments_lexer": "ipython3",
   "version": "3.6.1"
  }
 },
 "nbformat": 4,
 "nbformat_minor": 2
}
