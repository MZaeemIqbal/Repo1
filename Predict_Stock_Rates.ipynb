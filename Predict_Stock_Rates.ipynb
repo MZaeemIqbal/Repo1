{
 "cells": [
  {
   "cell_type": "markdown",
   "metadata": {},
   "source": [
    "# Predicting stock rates"
   ]
  },
  {
   "cell_type": "code",
   "execution_count": 13,
   "metadata": {
    "collapsed": true
   },
   "outputs": [],
   "source": [
    "import pandas as pd\n",
    "from datetime import datetime\n",
    "from sklearn.metrics import mean_absolute_error\n",
    "from sklearn.linear_model import LinearRegression\n",
    "import matplotlib.pyplot as plt\n",
    "%matplotlib inline"
   ]
  },
  {
   "cell_type": "markdown",
   "metadata": {},
   "source": [
    "## reading data into dataframe"
   ]
  },
  {
   "cell_type": "code",
   "execution_count": 14,
   "metadata": {},
   "outputs": [
    {
     "data": {
      "text/html": [
       "<div>\n",
       "<style>\n",
       "    .dataframe thead tr:only-child th {\n",
       "        text-align: right;\n",
       "    }\n",
       "\n",
       "    .dataframe thead th {\n",
       "        text-align: left;\n",
       "    }\n",
       "\n",
       "    .dataframe tbody tr th {\n",
       "        vertical-align: top;\n",
       "    }\n",
       "</style>\n",
       "<table border=\"1\" class=\"dataframe\">\n",
       "  <thead>\n",
       "    <tr style=\"text-align: right;\">\n",
       "      <th></th>\n",
       "      <th>Date</th>\n",
       "      <th>Open</th>\n",
       "      <th>High</th>\n",
       "      <th>Low</th>\n",
       "      <th>Close</th>\n",
       "      <th>Volume</th>\n",
       "      <th>Adj Close</th>\n",
       "    </tr>\n",
       "  </thead>\n",
       "  <tbody>\n",
       "    <tr>\n",
       "      <th>0</th>\n",
       "      <td>2015-12-07</td>\n",
       "      <td>2090.419922</td>\n",
       "      <td>2090.419922</td>\n",
       "      <td>2066.780029</td>\n",
       "      <td>2077.070068</td>\n",
       "      <td>4.043820e+09</td>\n",
       "      <td>2077.070068</td>\n",
       "    </tr>\n",
       "    <tr>\n",
       "      <th>1</th>\n",
       "      <td>2015-12-04</td>\n",
       "      <td>2051.239990</td>\n",
       "      <td>2093.840088</td>\n",
       "      <td>2051.239990</td>\n",
       "      <td>2091.689941</td>\n",
       "      <td>4.214910e+09</td>\n",
       "      <td>2091.689941</td>\n",
       "    </tr>\n",
       "    <tr>\n",
       "      <th>2</th>\n",
       "      <td>2015-12-03</td>\n",
       "      <td>2080.709961</td>\n",
       "      <td>2085.000000</td>\n",
       "      <td>2042.349976</td>\n",
       "      <td>2049.620117</td>\n",
       "      <td>4.306490e+09</td>\n",
       "      <td>2049.620117</td>\n",
       "    </tr>\n",
       "    <tr>\n",
       "      <th>3</th>\n",
       "      <td>2015-12-02</td>\n",
       "      <td>2101.709961</td>\n",
       "      <td>2104.270020</td>\n",
       "      <td>2077.110107</td>\n",
       "      <td>2079.510010</td>\n",
       "      <td>3.950640e+09</td>\n",
       "      <td>2079.510010</td>\n",
       "    </tr>\n",
       "    <tr>\n",
       "      <th>4</th>\n",
       "      <td>2015-12-01</td>\n",
       "      <td>2082.929932</td>\n",
       "      <td>2103.370117</td>\n",
       "      <td>2082.929932</td>\n",
       "      <td>2102.629883</td>\n",
       "      <td>3.712120e+09</td>\n",
       "      <td>2102.629883</td>\n",
       "    </tr>\n",
       "  </tbody>\n",
       "</table>\n",
       "</div>"
      ],
      "text/plain": [
       "         Date         Open         High          Low        Close  \\\n",
       "0  2015-12-07  2090.419922  2090.419922  2066.780029  2077.070068   \n",
       "1  2015-12-04  2051.239990  2093.840088  2051.239990  2091.689941   \n",
       "2  2015-12-03  2080.709961  2085.000000  2042.349976  2049.620117   \n",
       "3  2015-12-02  2101.709961  2104.270020  2077.110107  2079.510010   \n",
       "4  2015-12-01  2082.929932  2103.370117  2082.929932  2102.629883   \n",
       "\n",
       "         Volume    Adj Close  \n",
       "0  4.043820e+09  2077.070068  \n",
       "1  4.214910e+09  2091.689941  \n",
       "2  4.306490e+09  2049.620117  \n",
       "3  3.950640e+09  2079.510010  \n",
       "4  3.712120e+09  2102.629883  "
      ]
     },
     "execution_count": 14,
     "metadata": {},
     "output_type": "execute_result"
    }
   ],
   "source": [
    "df=pd.read_csv(\"sphist.csv\")\n",
    "df.head()"
   ]
  },
  {
   "cell_type": "markdown",
   "metadata": {},
   "source": [
    "## Converting Date column to pandas date type"
   ]
  },
  {
   "cell_type": "code",
   "execution_count": 15,
   "metadata": {
    "collapsed": true
   },
   "outputs": [],
   "source": [
    "df[\"Date\"]=pd.to_datetime(df[\"Date\"])"
   ]
  },
  {
   "cell_type": "code",
   "execution_count": 16,
   "metadata": {
    "collapsed": true
   },
   "outputs": [],
   "source": [
    "#sorting df w.r.t Date column\n",
    "df=df.sort_values(\"Date\")"
   ]
  },
  {
   "cell_type": "markdown",
   "metadata": {},
   "source": [
    "## Computing indicators"
   ]
  },
  {
   "cell_type": "code",
   "execution_count": 17,
   "metadata": {},
   "outputs": [
    {
     "data": {
      "text/html": [
       "<div>\n",
       "<style>\n",
       "    .dataframe thead tr:only-child th {\n",
       "        text-align: right;\n",
       "    }\n",
       "\n",
       "    .dataframe thead th {\n",
       "        text-align: left;\n",
       "    }\n",
       "\n",
       "    .dataframe tbody tr th {\n",
       "        vertical-align: top;\n",
       "    }\n",
       "</style>\n",
       "<table border=\"1\" class=\"dataframe\">\n",
       "  <thead>\n",
       "    <tr style=\"text-align: right;\">\n",
       "      <th></th>\n",
       "      <th>Date</th>\n",
       "      <th>Open</th>\n",
       "      <th>High</th>\n",
       "      <th>Low</th>\n",
       "      <th>Close</th>\n",
       "      <th>Volume</th>\n",
       "      <th>Adj Close</th>\n",
       "      <th>vol_5</th>\n",
       "      <th>vol_365</th>\n",
       "      <th>day_5</th>\n",
       "      <th>day_30</th>\n",
       "      <th>day_365</th>\n",
       "    </tr>\n",
       "  </thead>\n",
       "  <tbody>\n",
       "    <tr>\n",
       "      <th>16224</th>\n",
       "      <td>1951-06-19</td>\n",
       "      <td>22.020000</td>\n",
       "      <td>22.020000</td>\n",
       "      <td>22.020000</td>\n",
       "      <td>22.020000</td>\n",
       "      <td>1100000.0</td>\n",
       "      <td>22.020000</td>\n",
       "      <td>1196000.0</td>\n",
       "      <td>1.989479e+06</td>\n",
       "      <td>21.800</td>\n",
       "      <td>21.703333</td>\n",
       "      <td>19.447726</td>\n",
       "    </tr>\n",
       "    <tr>\n",
       "      <th>16223</th>\n",
       "      <td>1951-06-20</td>\n",
       "      <td>21.910000</td>\n",
       "      <td>21.910000</td>\n",
       "      <td>21.910000</td>\n",
       "      <td>21.910000</td>\n",
       "      <td>1120000.0</td>\n",
       "      <td>21.910000</td>\n",
       "      <td>1176000.0</td>\n",
       "      <td>1.989041e+06</td>\n",
       "      <td>21.900</td>\n",
       "      <td>21.683000</td>\n",
       "      <td>19.462411</td>\n",
       "    </tr>\n",
       "    <tr>\n",
       "      <th>16222</th>\n",
       "      <td>1951-06-21</td>\n",
       "      <td>21.780001</td>\n",
       "      <td>21.780001</td>\n",
       "      <td>21.780001</td>\n",
       "      <td>21.780001</td>\n",
       "      <td>1100000.0</td>\n",
       "      <td>21.780001</td>\n",
       "      <td>1188000.0</td>\n",
       "      <td>1.986932e+06</td>\n",
       "      <td>21.972</td>\n",
       "      <td>21.659667</td>\n",
       "      <td>19.476274</td>\n",
       "    </tr>\n",
       "    <tr>\n",
       "      <th>16221</th>\n",
       "      <td>1951-06-22</td>\n",
       "      <td>21.549999</td>\n",
       "      <td>21.549999</td>\n",
       "      <td>21.549999</td>\n",
       "      <td>21.549999</td>\n",
       "      <td>1340000.0</td>\n",
       "      <td>21.549999</td>\n",
       "      <td>1148000.0</td>\n",
       "      <td>1.982959e+06</td>\n",
       "      <td>21.960</td>\n",
       "      <td>21.631000</td>\n",
       "      <td>19.489562</td>\n",
       "    </tr>\n",
       "    <tr>\n",
       "      <th>16220</th>\n",
       "      <td>1951-06-25</td>\n",
       "      <td>21.290001</td>\n",
       "      <td>21.290001</td>\n",
       "      <td>21.290001</td>\n",
       "      <td>21.290001</td>\n",
       "      <td>2440000.0</td>\n",
       "      <td>21.290001</td>\n",
       "      <td>1142000.0</td>\n",
       "      <td>1.981123e+06</td>\n",
       "      <td>21.862</td>\n",
       "      <td>21.599000</td>\n",
       "      <td>19.502082</td>\n",
       "    </tr>\n",
       "  </tbody>\n",
       "</table>\n",
       "</div>"
      ],
      "text/plain": [
       "            Date       Open       High        Low      Close     Volume  \\\n",
       "16224 1951-06-19  22.020000  22.020000  22.020000  22.020000  1100000.0   \n",
       "16223 1951-06-20  21.910000  21.910000  21.910000  21.910000  1120000.0   \n",
       "16222 1951-06-21  21.780001  21.780001  21.780001  21.780001  1100000.0   \n",
       "16221 1951-06-22  21.549999  21.549999  21.549999  21.549999  1340000.0   \n",
       "16220 1951-06-25  21.290001  21.290001  21.290001  21.290001  2440000.0   \n",
       "\n",
       "       Adj Close      vol_5       vol_365   day_5     day_30    day_365  \n",
       "16224  22.020000  1196000.0  1.989479e+06  21.800  21.703333  19.447726  \n",
       "16223  21.910000  1176000.0  1.989041e+06  21.900  21.683000  19.462411  \n",
       "16222  21.780001  1188000.0  1.986932e+06  21.972  21.659667  19.476274  \n",
       "16221  21.549999  1148000.0  1.982959e+06  21.960  21.631000  19.489562  \n",
       "16220  21.290001  1142000.0  1.981123e+06  21.862  21.599000  19.502082  "
      ]
     },
     "execution_count": 17,
     "metadata": {},
     "output_type": "execute_result"
    }
   ],
   "source": [
    "#Computing mean volume for past 5 days\n",
    "df[\"vol_5\"]=df[\"Volume\"].rolling(5).mean()\n",
    "#Computing mean volume for past 365 days\n",
    "df[\"vol_365\"]=df[\"Volume\"].rolling(365).mean()\n",
    "#column indicating the mean of past 5 stock price\n",
    "df[\"day_5\"]=df[\"Close\"].rolling(5).mean()\n",
    "#column indicating the mean of past 30 stock price\n",
    "df[\"day_30\"]=df[\"Close\"].rolling(30).mean()\n",
    "#column indicating the mean of past 365 stock price\n",
    "df[\"day_365\"]=df[\"Close\"].rolling(365).mean()\n",
    "#shifting by 1 down as rolling includes the current value\n",
    "df[[\"vol_5\",\"vol_365\",\"day_5\",\"day_30\",\"day_365\"]]=df[[\"vol_5\",\"vol_365\",\"day_5\",\"day_30\",\"day_365\"]].shift(1)\n",
    "#removing first 365 rows because they contain Nan\n",
    "df=df[df[\"Date\"] > datetime(year=1951, month=1, day=2)]\n",
    "#dropping rows with na values\n",
    "df=df.dropna(axis=0)\n",
    "df.head()"
   ]
  },
  {
   "cell_type": "markdown",
   "metadata": {},
   "source": [
    "## Train/Test Model"
   ]
  },
  {
   "cell_type": "code",
   "execution_count": 29,
   "metadata": {},
   "outputs": [
    {
     "name": "stdout",
     "output_type": "stream",
     "text": [
      "[734.57948803198371, 687.19696972619556, 16.267878754475266, 31.970513557097345, 146.631302068694, 16.149299962628589, 30.175302281842477, 16.142439643554408]\n"
     ]
    }
   ],
   "source": [
    "#generating train and test dataframes\n",
    "train=df[df[\"Date\"]< datetime(year=2013, month=1, day=1)]\n",
    "test=df[df[\"Date\"]> datetime(year=2013, month=1, day=1)]\n",
    "cols=[[\"vol_5\"],[\"vol_365\"],[\"day_5\"],[\"day_30\"],[\"day_365\"],[\"day_5\",\"day_30\"],[\"day_30\",\"day_365\"],[\"day_5\",\"day_30\",\"day_365\"]]\n",
    "#Predicting stock prices \n",
    "target=[\"Close\"]\n",
    "lr=LinearRegression()\n",
    "mean_abs_err=[]\n",
    "for columns in cols:\n",
    "    lr.fit(train[columns],train[target])\n",
    "    predictions=lr.predict(test[columns])\n",
    "    mae=mean_absolute_error(predictions,test[target])\n",
    "    mean_abs_err.append(mae)\n",
    "print(mean_abs_err)"
   ]
  },
  {
   "cell_type": "code",
   "execution_count": 45,
   "metadata": {},
   "outputs": [
    {
     "data": {
      "text/plain": [
       "<matplotlib.text.Text at 0x1aa3cfc0fd0>"
      ]
     },
     "execution_count": 45,
     "metadata": {},
     "output_type": "execute_result"
    },
    {
     "data": {
      "image/png": "[encoded data removed]",
      "text/plain": [
       "<matplotlib.figure.Figure at 0x1aa3cf9b4e0>"
      ]
     },
     "metadata": {},
     "output_type": "display_data"
    }
   ],
   "source": [
    "indexes=[\"vol_5\",\"vol_365\",\"day_5\",\"day_30\",\"day_365\",\"day_5_30\",\"day_30_365\",\"day_5_30_365\"]\n",
    "ser = pd.Series(mean_abs_err,index=indexes)\n",
    "ax=ser.plot(kind=\"barh\",color=\"gbrybk\")\n",
    "ax.set_title(\"Mean Absolute Error for different combinations\")\n",
    "ax.set_xlabel(\"Mean Absolute Error\")\n",
    "ax.set_ylabel(\"Combinations\")"
   ]
  }
 ],
 "metadata": {
  "kernelspec": {
   "display_name": "Python 3",
   "language": "python",
   "name": "python3"
  },
  "language_info": {
   "codemirror_mode": {
    "name": "ipython",
    "version": 3
   },
   "file_extension": ".py",
   "mimetype": "text/x-python",
   "name": "python",
   "nbconvert_exporter": "python",
   "pygments_lexer": "ipython3",
   "version": "3.6.1"
  }
 },
 "nbformat": 4,
 "nbformat_minor": 2
}
