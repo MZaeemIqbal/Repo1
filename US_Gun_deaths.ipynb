{
 "cells": [
  {
   "cell_type": "markdown",
   "metadata": {},
   "source": [
    "# Analysing US Gun deaths"
   ]
  },
  {
   "cell_type": "markdown",
   "metadata": {},
   "source": [
    "## Questions:\n",
    "Here are some potential questions we want to answer:\n",
    "1-Figure out the link, if any, between month and homicide rate.\n",
    "2-Explore the homicide rate by gender.\n",
    "3-Explore the rates of other intents, like Accidental, by gender and race.\n",
    "4-Find out if gun death rates correlate to location and education."
   ]
  },
  {
   "cell_type": "markdown",
   "metadata": {},
   "source": [
    "### Introduction to dataset:\n",
    "There are ten rows in the dataset as shown below:\n",
    "1-year:year of death (2012-2014)\n",
    "2-month:month of death(1-12)\n",
    "3-intent:Reason behind the death(Suicide, Accidental, NA, Homicide, or Undetermined)\n",
    "4-police:whether a police officer was involved or not(0 or 1)\n",
    "5-Sex:Gender of the victim(M or F)\n",
    "6-age:age of the victim\n",
    "7-race:race of the victim(Asian/Pacific Islander, Native American/Native Alaskan, Black, Hispanic, or White)\n",
    "8-hispanic:a code indicating hispanic origin of victim\n",
    "9-place:place where the shooting occured\n",
    "10-education:education of the victim"
   ]
  },
  {
   "cell_type": "code",
   "execution_count": 116,
   "metadata": {},
   "outputs": [
    {
     "data": {
      "text/html": [
       "<div>\n",
       "<style>\n",
       "    .dataframe thead tr:only-child th {\n",
       "        text-align: right;\n",
       "    }\n",
       "\n",
       "    .dataframe thead th {\n",
       "        text-align: left;\n",
       "    }\n",
       "\n",
       "    .dataframe tbody tr th {\n",
       "        vertical-align: top;\n",
       "    }\n",
       "</style>\n",
       "<table border=\"1\" class=\"dataframe\">\n",
       "  <thead>\n",
       "    <tr style=\"text-align: right;\">\n",
       "      <th></th>\n",
       "      <th>year</th>\n",
       "      <th>month</th>\n",
       "      <th>intent</th>\n",
       "      <th>police</th>\n",
       "      <th>sex</th>\n",
       "      <th>age</th>\n",
       "      <th>race</th>\n",
       "      <th>hispanic</th>\n",
       "      <th>place</th>\n",
       "      <th>education</th>\n",
       "    </tr>\n",
       "  </thead>\n",
       "  <tbody>\n",
       "    <tr>\n",
       "      <th>100794</th>\n",
       "      <td>2014</td>\n",
       "      <td>12</td>\n",
       "      <td>Homicide</td>\n",
       "      <td>0</td>\n",
       "      <td>M</td>\n",
       "      <td>36.0</td>\n",
       "      <td>Black</td>\n",
       "      <td>100</td>\n",
       "      <td>Home</td>\n",
       "      <td>HS/GED</td>\n",
       "    </tr>\n",
       "    <tr>\n",
       "      <th>100795</th>\n",
       "      <td>2014</td>\n",
       "      <td>12</td>\n",
       "      <td>Homicide</td>\n",
       "      <td>0</td>\n",
       "      <td>M</td>\n",
       "      <td>19.0</td>\n",
       "      <td>Black</td>\n",
       "      <td>100</td>\n",
       "      <td>Street</td>\n",
       "      <td>HS/GED</td>\n",
       "    </tr>\n",
       "    <tr>\n",
       "      <th>100796</th>\n",
       "      <td>2014</td>\n",
       "      <td>12</td>\n",
       "      <td>Homicide</td>\n",
       "      <td>0</td>\n",
       "      <td>M</td>\n",
       "      <td>20.0</td>\n",
       "      <td>Black</td>\n",
       "      <td>100</td>\n",
       "      <td>Street</td>\n",
       "      <td>HS/GED</td>\n",
       "    </tr>\n",
       "    <tr>\n",
       "      <th>100797</th>\n",
       "      <td>2014</td>\n",
       "      <td>12</td>\n",
       "      <td>Homicide</td>\n",
       "      <td>0</td>\n",
       "      <td>M</td>\n",
       "      <td>22.0</td>\n",
       "      <td>Hispanic</td>\n",
       "      <td>260</td>\n",
       "      <td>Street</td>\n",
       "      <td>Less than HS</td>\n",
       "    </tr>\n",
       "    <tr>\n",
       "      <th>100798</th>\n",
       "      <td>2014</td>\n",
       "      <td>10</td>\n",
       "      <td>Homicide</td>\n",
       "      <td>0</td>\n",
       "      <td>M</td>\n",
       "      <td>43.0</td>\n",
       "      <td>Black</td>\n",
       "      <td>100</td>\n",
       "      <td>Other unspecified</td>\n",
       "      <td>HS/GED</td>\n",
       "    </tr>\n",
       "  </tbody>\n",
       "</table>\n",
       "</div>"
      ],
      "text/plain": [
       "        year  month    intent  police sex   age      race  hispanic  \\\n",
       "100794  2014     12  Homicide       0   M  36.0     Black       100   \n",
       "100795  2014     12  Homicide       0   M  19.0     Black       100   \n",
       "100796  2014     12  Homicide       0   M  20.0     Black       100   \n",
       "100797  2014     12  Homicide       0   M  22.0  Hispanic       260   \n",
       "100798  2014     10  Homicide       0   M  43.0     Black       100   \n",
       "\n",
       "                    place     education  \n",
       "100794               Home        HS/GED  \n",
       "100795             Street        HS/GED  \n",
       "100796             Street        HS/GED  \n",
       "100797             Street  Less than HS  \n",
       "100798  Other unspecified        HS/GED  "
      ]
     },
     "execution_count": 116,
     "metadata": {},
     "output_type": "execute_result"
    }
   ],
   "source": [
    "import pandas as pd\n",
    "data=pd.read_csv(\"full_data.csv\",index_col=0)\n",
    "data.tail(5)"
   ]
  },
  {
   "cell_type": "markdown",
   "metadata": {},
   "source": [
    "Finding number of deaths each year"
   ]
  },
  {
   "cell_type": "code",
   "execution_count": 117,
   "metadata": {},
   "outputs": [
    {
     "name": "stdout",
     "output_type": "stream",
     "text": [
      "{2012: 33563, 2013: 33636, 2014: 33599}\n"
     ]
    }
   ],
   "source": [
    "def year_deaths(data):\n",
    "    year_counts={}\n",
    "    for idx,row in data.iterrows():\n",
    "        if row[\"year\"] in year_counts:\n",
    "            year_counts[row[\"year\"]]+=1\n",
    "        else:\n",
    "            year_counts[row[\"year\"]]=1\n",
    "    return year_counts\n",
    "print(year_deaths(data))"
   ]
  },
  {
   "cell_type": "markdown",
   "metadata": {},
   "source": [
    "Exploring Number of deaths each month"
   ]
  },
  {
   "cell_type": "code",
   "execution_count": 118,
   "metadata": {},
   "outputs": [
    {
     "name": "stdout",
     "output_type": "stream",
     "text": [
      "{1: 8273, 2: 7093, 3: 8289, 4: 8455, 5: 8669, 6: 8677, 7: 8989, 8: 8783, 9: 8508, 10: 8406, 11: 8243, 12: 8413}\n"
     ]
    }
   ],
   "source": [
    "def month_deaths(data):\n",
    "    month_counts={}\n",
    "    for idx,row in data.iterrows():\n",
    "        if row[\"month\"] in month_counts:\n",
    "            month_counts[row[\"month\"]]+=1\n",
    "        else:\n",
    "            month_counts[row[\"month\"]]=1\n",
    "    return month_counts\n",
    "print(month_deaths(data))"
   ]
  },
  {
   "cell_type": "markdown",
   "metadata": {},
   "source": [
    "Finding number of deaths each sex suffered"
   ]
  },
  {
   "cell_type": "code",
   "execution_count": 119,
   "metadata": {},
   "outputs": [
    {
     "name": "stdout",
     "output_type": "stream",
     "text": [
      "{'M': 86349, 'F': 14449}\n"
     ]
    }
   ],
   "source": [
    "def sex_deaths(data):\n",
    "    death_counts={}\n",
    "    for idx,row in data.iterrows():\n",
    "        if row[\"sex\"] in death_counts:\n",
    "            death_counts[row[\"sex\"]]+=1\n",
    "        else:\n",
    "            death_counts[row[\"sex\"]]=1\n",
    "    return death_counts\n",
    "print(sex_deaths(data))"
   ]
  },
  {
   "cell_type": "markdown",
   "metadata": {},
   "source": [
    "Finding number of deaths per race"
   ]
  },
  {
   "cell_type": "code",
   "execution_count": 120,
   "metadata": {},
   "outputs": [],
   "source": [
    "def race_deaths(data):\n",
    "    race_counts={}\n",
    "    for idx,row in data.iterrows():\n",
    "        if row[\"race\"] in race_counts:\n",
    "            race_counts[row[\"race\"]]+=1\n",
    "        else:\n",
    "            race_counts[row[\"race\"]]=1\n",
    "    return race_counts\n",
    "r_deaths=race_deaths(data)"
   ]
  },
  {
   "cell_type": "markdown",
   "metadata": {},
   "source": [
    "Death rate(percentage) of each race:\n",
    "For this, we will be using a new file(census.csv) that contains total population of each race."
   ]
  },
  {
   "cell_type": "code",
   "execution_count": 121,
   "metadata": {},
   "outputs": [
    {
     "data": {
      "text/html": [
       "<div>\n",
       "<style>\n",
       "    .dataframe thead tr:only-child th {\n",
       "        text-align: right;\n",
       "    }\n",
       "\n",
       "    .dataframe thead th {\n",
       "        text-align: left;\n",
       "    }\n",
       "\n",
       "    .dataframe tbody tr th {\n",
       "        vertical-align: top;\n",
       "    }\n",
       "</style>\n",
       "<table border=\"1\" class=\"dataframe\">\n",
       "  <thead>\n",
       "    <tr style=\"text-align: right;\">\n",
       "      <th></th>\n",
       "      <th>Id</th>\n",
       "      <th>Year</th>\n",
       "      <th>Id.1</th>\n",
       "      <th>Sex</th>\n",
       "      <th>Id.2</th>\n",
       "      <th>Hispanic Origin</th>\n",
       "      <th>Id.3</th>\n",
       "      <th>Id2</th>\n",
       "      <th>Geography</th>\n",
       "      <th>Total</th>\n",
       "      <th>Race Alone - White</th>\n",
       "      <th>Race Alone - Hispanic</th>\n",
       "      <th>Race Alone - Black or African American</th>\n",
       "      <th>Race Alone - American Indian and Alaska Native</th>\n",
       "      <th>Race Alone - Asian</th>\n",
       "      <th>Race Alone - Native Hawaiian and Other Pacific Islander</th>\n",
       "      <th>Two or More Races</th>\n",
       "    </tr>\n",
       "  </thead>\n",
       "  <tbody>\n",
       "    <tr>\n",
       "      <th>0</th>\n",
       "      <td>cen42010</td>\n",
       "      <td>April 1, 2010 Census</td>\n",
       "      <td>totsex</td>\n",
       "      <td>Both Sexes</td>\n",
       "      <td>tothisp</td>\n",
       "      <td>Total</td>\n",
       "      <td>0100000US</td>\n",
       "      <td>NaN</td>\n",
       "      <td>United States</td>\n",
       "      <td>308745538</td>\n",
       "      <td>197318956</td>\n",
       "      <td>44618105</td>\n",
       "      <td>40250635</td>\n",
       "      <td>3739506</td>\n",
       "      <td>15159516</td>\n",
       "      <td>674625</td>\n",
       "      <td>6984195</td>\n",
       "    </tr>\n",
       "  </tbody>\n",
       "</table>\n",
       "</div>"
      ],
      "text/plain": [
       "         Id                  Year    Id.1         Sex     Id.2  \\\n",
       "0  cen42010  April 1, 2010 Census  totsex  Both Sexes  tothisp   \n",
       "\n",
       "  Hispanic Origin       Id.3  Id2      Geography      Total  \\\n",
       "0           Total  0100000US  NaN  United States  308745538   \n",
       "\n",
       "   Race Alone - White  Race Alone - Hispanic  \\\n",
       "0           197318956               44618105   \n",
       "\n",
       "   Race Alone - Black or African American  \\\n",
       "0                                40250635   \n",
       "\n",
       "   Race Alone - American Indian and Alaska Native  Race Alone - Asian  \\\n",
       "0                                         3739506            15159516   \n",
       "\n",
       "   Race Alone - Native Hawaiian and Other Pacific Islander  Two or More Races  \n",
       "0                                             674625                  6984195  "
      ]
     },
     "execution_count": 121,
     "metadata": {},
     "output_type": "execute_result"
    }
   ],
   "source": [
    "tot_pop=pd.read_csv(\"census.csv\")\n",
    "tot_pop.head()"
   ]
  },
  {
   "cell_type": "markdown",
   "metadata": {},
   "source": [
    "Extracting population of each race into a dictionery."
   ]
  },
  {
   "cell_type": "code",
   "execution_count": 122,
   "metadata": {},
   "outputs": [
    {
     "name": "stdout",
     "output_type": "stream",
     "text": [
      "{'Asian/Pacific Islander': 8.374309664161762, 'White': 33.56849303419181, 'Native American/Native Alaskan': 24.521955573811088, 'Black': 57.8773477735196, 'Hispanic': 20.220491210910907}\n"
     ]
    }
   ],
   "source": [
    "mapping={}\n",
    "mapping['Asian/Pacific Islander']=int(tot_pop[\"Race Alone - Asian\"]+tot_pop[\"Race Alone - Native Hawaiian and Other Pacific Islander\"])\n",
    "mapping['Black']=int(tot_pop[\"Race Alone - Black or African American\"])\n",
    "mapping['Native American/Native Alaskan']=int(tot_pop[\"Race Alone - American Indian and Alaska Native\"])\n",
    "mapping['Hispanic']=int(tot_pop[\"Race Alone - Hispanic\"])\n",
    "mapping['White']=int(tot_pop[\"Race Alone - White\"])\n",
    "race_per_hundredk={}\n",
    "for key in r_deaths:\n",
    "    race_per_hundredk[key]=(r_deaths[key]/mapping[key])*100000\n",
    "print(race_per_hundredk)"
   ]
  },
  {
   "cell_type": "code",
   "execution_count": 123,
   "metadata": {},
   "outputs": [
    {
     "data": {
      "image/png": "[encoded data removed]",
      "text/plain": [
       "<matplotlib.figure.Figure at 0x1ab9cf8bf28>"
      ]
     },
     "metadata": {},
     "output_type": "display_data"
    }
   ],
   "source": [
    "import matplotlib.pyplot as plt\n",
    "%matplotlib inline\n",
    "deaths=pd.Series(race_per_hundredk)\n",
    "h=deaths.plot(kind='barh',linewidth=2,color='rgbky')\n",
    "h.set_ylabel(\"race\")\n",
    "h.set_xlabel(\"deaths/100k\")\n",
    "h.set_title(\"US Gun deaths based on races\")\n",
    "h.tick_params(top=\"off\",right=\"off\")\n",
    "h.spines['right'].set_visible(False)\n",
    "h.spines['top'].set_visible(False)\n",
    "h.spines['bottom'].set_visible(False)\n",
    "h.spines['left'].set_visible(False)"
   ]
  },
  {
   "cell_type": "markdown",
   "metadata": {},
   "source": [
    "Graph illustrates that the death rate of black americans is the greatest showing huge racial prejudice in USA."
   ]
  },
  {
   "cell_type": "markdown",
   "metadata": {},
   "source": [
    "Figuring out the link between month and homicide rate"
   ]
  },
  {
   "cell_type": "code",
   "execution_count": 124,
   "metadata": {},
   "outputs": [],
   "source": [
    "def month_deaths_homicide(data):\n",
    "    d_counts={}\n",
    "    for idx,row in data.iterrows():\n",
    "        if row[\"intent\"]==\"Homicide\":\n",
    "            if row[\"month\"] in d_counts:\n",
    "                d_counts[row[\"month\"]]+=1\n",
    "            else:\n",
    "                d_counts[row[\"month\"]]=1\n",
    "    return d_counts\n",
    "month_hom=month_deaths_homicide(data)"
   ]
  },
  {
   "cell_type": "code",
   "execution_count": 125,
   "metadata": {},
   "outputs": [
    {
     "data": {
      "image/png": "[encoded data removed]",
      "text/plain": [
       "<matplotlib.figure.Figure at 0x1ab9fd88a58>"
      ]
     },
     "metadata": {},
     "output_type": "display_data"
    }
   ],
   "source": [
    "deaths=pd.Series(month_hom)\n",
    "h=deaths.plot(kind='barh',linewidth=2,color='rgbky')\n",
    "h.set_ylabel(\"month\")\n",
    "h.set_xlabel(\"deaths-homicide\")\n",
    "h.set_title(\"US Gun-homicide deaths/month\")\n",
    "h.tick_params(top=\"off\",right=\"off\")\n",
    "h.spines['right'].set_visible(False)\n",
    "h.spines['top'].set_visible(False)\n",
    "h.spines['bottom'].set_visible(False)\n",
    "h.spines['left'].set_visible(False)"
   ]
  },
  {
   "cell_type": "markdown",
   "metadata": {},
   "source": [
    "# Findings:\n",
    "Homicide deaths are greatest in July and December."
   ]
  },
  {
   "cell_type": "markdown",
   "metadata": {},
   "source": [
    "Homicide rate by gender:"
   ]
  },
  {
   "cell_type": "code",
   "execution_count": 126,
   "metadata": {},
   "outputs": [
    {
     "name": "stdout",
     "output_type": "stream",
     "text": [
      "{'M': 29803, 'F': 5373}\n"
     ]
    }
   ],
   "source": [
    "def homicide_gender(data):\n",
    "    d_counts={}\n",
    "    for idx,row in data.iterrows():\n",
    "        if row[\"intent\"]==\"Homicide\":\n",
    "            if row[\"sex\"] in d_counts:\n",
    "                d_counts[row[\"sex\"]]+=1\n",
    "            else:\n",
    "                d_counts[row[\"sex\"]]=1\n",
    "    return d_counts\n",
    "gender_homicide=homicide_gender(data)\n",
    "print(gender_homicide)"
   ]
  },
  {
   "cell_type": "code",
   "execution_count": 127,
   "metadata": {},
   "outputs": [
    {
     "data": {
      "text/plain": [
       "<matplotlib.text.Text at 0x1ab9cfb43c8>"
      ]
     },
     "execution_count": 127,
     "metadata": {},
     "output_type": "execute_result"
    },
    {
     "data": {
      "image/png": "[encoded data removed]",
      "text/plain": [
       "<matplotlib.figure.Figure at 0x1ab9fd884e0>"
      ]
     },
     "metadata": {},
     "output_type": "display_data"
    }
   ],
   "source": [
    "deaths=pd.Series(gender_homicide)\n",
    "h=deaths.plot(kind='pie')\n",
    "h=deaths.plot(kind='pie',autopct='%1.1f%%',fontsize=14)\n",
    "h.set_title(\"US Gun-homicide deaths BY Gender\")\n"
   ]
  },
  {
   "cell_type": "markdown",
   "metadata": {},
   "source": [
    "# Findings:\n",
    "It is very obvious that homicide rate in the US is higher in Males(84.7%) and lower in females(15.3%)"
   ]
  },
  {
   "cell_type": "markdown",
   "metadata": {},
   "source": [
    "Suicide rate by Gender:"
   ]
  },
  {
   "cell_type": "code",
   "execution_count": 128,
   "metadata": {},
   "outputs": [
    {
     "name": "stdout",
     "output_type": "stream",
     "text": [
      "{'M': 54486, 'F': 8689}\n"
     ]
    }
   ],
   "source": [
    "def suicide_gender(data):\n",
    "    d_counts={}\n",
    "    for idx,row in data.iterrows():\n",
    "        if row[\"intent\"]==\"Suicide\":\n",
    "            if row[\"sex\"] in d_counts:\n",
    "                d_counts[row[\"sex\"]]+=1\n",
    "            else:\n",
    "                d_counts[row[\"sex\"]]=1\n",
    "    return d_counts\n",
    "gender_suicide=suicide_gender(data)\n",
    "print(gender_suicide)"
   ]
  },
  {
   "cell_type": "code",
   "execution_count": 129,
   "metadata": {},
   "outputs": [
    {
     "data": {
      "text/plain": [
       "<matplotlib.text.Text at 0x1ab9c8615f8>"
      ]
     },
     "execution_count": 129,
     "metadata": {},
     "output_type": "execute_result"
    },
    {
     "data": {
      "image/png": "[encoded data removed]",
      "text/plain": [
       "<matplotlib.figure.Figure at 0x1ab9fd882b0>"
      ]
     },
     "metadata": {},
     "output_type": "display_data"
    }
   ],
   "source": [
    "deaths=pd.Series(gender_suicide)\n",
    "h=deaths.plot(kind='pie',autopct='%1.1f%%',fontsize=14)\n",
    "h.set_title(\"US Gun-suicide deaths BY Gender\")\n"
   ]
  },
  {
   "cell_type": "markdown",
   "metadata": {},
   "source": [
    "# Findings:\n",
    "Suicide rate is also greater among Males."
   ]
  },
  {
   "cell_type": "code",
   "execution_count": 130,
   "metadata": {},
   "outputs": [],
   "source": [
    "def race_deaths_suicide(data):\n",
    "    d_counts={}\n",
    "    for idx,row in data.iterrows():\n",
    "        if row[\"intent\"]==\"Suicide\":\n",
    "            if row[\"race\"] in d_counts:\n",
    "                d_counts[row[\"race\"]]+=1\n",
    "            else:\n",
    "                d_counts[row[\"race\"]]=1\n",
    "    rate={}\n",
    "    for key in d_counts:\n",
    "        rate[key]=(d_counts[key]/mapping[key])*100000\n",
    "    return rate\n",
    "r_d_s=race_deaths_suicide(data)"
   ]
  },
  {
   "cell_type": "code",
   "execution_count": 131,
   "metadata": {},
   "outputs": [
    {
     "data": {
      "text/plain": [
       "<matplotlib.text.Text at 0x1aba16367f0>"
      ]
     },
     "execution_count": 131,
     "metadata": {},
     "output_type": "execute_result"
    },
    {
     "data": {
      "image/png": "[encoded data removed]",
      "text/plain": [
       "<matplotlib.figure.Figure at 0x1ab9fd87208>"
      ]
     },
     "metadata": {},
     "output_type": "display_data"
    }
   ],
   "source": [
    "deaths=pd.Series(r_d_s)\n",
    "h=deaths.plot(kind='pie',autopct='%1.1f%%',fontsize=14)\n",
    "h.set_title(\"US Gun-suicide deaths BY Race\")\n",
    "\n",
    "    "
   ]
  },
  {
   "cell_type": "markdown",
   "metadata": {},
   "source": [
    "# Findings;\n",
    "Surprisingly,although gun-death rate is higher in black race but suicide rate is greatest in white Americans."
   ]
  },
  {
   "cell_type": "code",
   "execution_count": 132,
   "metadata": {},
   "outputs": [
    {
     "name": "stdout",
     "output_type": "stream",
     "text": [
      "{'BA+': 12946, 'Some college': 21680, 'HS/GED': 42927, 'Less than HS': 21823}\n"
     ]
    }
   ],
   "source": [
    "education=[row[\"education\"] for idx,row in data.iterrows()]\n",
    "edu_deaths={}\n",
    "for q in education:\n",
    "    if pd.notnull(q):\n",
    "        if q in edu_deaths:\n",
    "            edu_deaths[q]+=1\n",
    "        else:\n",
    "            edu_deaths[q]=1\n",
    "print(edu_deaths)"
   ]
  },
  {
   "cell_type": "code",
   "execution_count": 133,
   "metadata": {},
   "outputs": [
    {
     "data": {
      "image/png": "[encoded data removed]",
      "text/plain": [
       "<matplotlib.figure.Figure at 0x1aba2d58fd0>"
      ]
     },
     "metadata": {},
     "output_type": "display_data"
    }
   ],
   "source": [
    "deaths=pd.Series(edu_deaths)\n",
    "h=deaths.plot(kind='barh',linewidth=2,color='rgby')\n",
    "h.set_ylabel(\"Eduaction\")\n",
    "h.set_xlabel(\"Deaths\")\n",
    "h.set_title(\"US Gun-deaths by education\")\n",
    "h.tick_params(top=\"off\",right=\"off\")\n",
    "h.spines['right'].set_visible(False)\n",
    "h.spines['top'].set_visible(False)\n",
    "h.spines['bottom'].set_visible(False)\n",
    "h.spines['left'].set_visible(False)"
   ]
  },
  {
   "cell_type": "code",
   "execution_count": 134,
   "metadata": {},
   "outputs": [
    {
     "name": "stdout",
     "output_type": "stream",
     "text": [
      "{'Home': 60486, 'Street': 11151, 'Other specified': 13751, 'Other unspecified': 8867, 'Trade/service area': 3439, 'Farm': 470, 'Industrial/construction': 248, 'School/instiution': 671, 'Sports': 128, 'Residential institution': 203}\n"
     ]
    }
   ],
   "source": [
    "Place=[row[\"place\"] for idx,row in data.iterrows()]\n",
    "place_deaths={}\n",
    "for q in Place:\n",
    "    if pd.notnull(q):\n",
    "        if q in place_deaths:\n",
    "            place_deaths[q]+=1\n",
    "        else:\n",
    "            place_deaths[q]=1\n",
    "print(place_deaths)"
   ]
  },
  {
   "cell_type": "code",
   "execution_count": 135,
   "metadata": {},
   "outputs": [
    {
     "data": {
      "image/png": "[encoded data removed]",
      "text/plain": [
       "<matplotlib.figure.Figure at 0x1aba2d17080>"
      ]
     },
     "metadata": {},
     "output_type": "display_data"
    }
   ],
   "source": [
    "deaths=pd.Series(place_deaths)\n",
    "h=deaths.plot(kind='barh',linewidth=2,color='rgby')\n",
    "h.set_ylabel(\"Location\")\n",
    "h.set_xlabel(\"Deaths\")\n",
    "h.set_title(\"US Gun-deaths by Location\")\n",
    "h.tick_params(top=\"off\",right=\"off\")\n",
    "h.spines['right'].set_visible(False)\n",
    "h.spines['top'].set_visible(False)\n",
    "h.spines['bottom'].set_visible(False)\n",
    "h.spines['left'].set_visible(False)"
   ]
  },
  {
   "cell_type": "markdown",
   "metadata": {},
   "source": [
    "# Findings:\n",
    "#### 1-Number of gun deaths is the largest among the graduates:\n",
    "#### 2-Number of gun deaths at home is the largest."
   ]
  }
 ],
 "metadata": {
  "kernelspec": {
   "display_name": "Python 3",
   "language": "python",
   "name": "python3"
  },
  "language_info": {
   "codemirror_mode": {
    "name": "ipython",
    "version": 3
   },
   "file_extension": ".py",
   "mimetype": "text/x-python",
   "name": "python",
   "nbconvert_exporter": "python",
   "pygments_lexer": "ipython3",
   "version": "3.6.1"
  }
 },
 "nbformat": 4,
 "nbformat_minor": 2
}
